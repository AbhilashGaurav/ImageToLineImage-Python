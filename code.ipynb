{
  "nbformat": 4,
  "nbformat_minor": 0,
  "metadata": {
    "colab": {
      "provenance": []
    },
    "kernelspec": {
      "name": "python3",
      "display_name": "Python 3"
    },
    "language_info": {
      "name": "python"
    }
  },
  "cells": [
    {
      "cell_type": "markdown",
      "source": [
        "## Convert images into grayscale, blur and lined images"
      ],
      "metadata": {
        "id": "uI7A9TnwvhvA"
      }
    },
    {
      "cell_type": "markdown",
      "source": [
        "Drive Mounting:\n",
        "\n",
        "Mount your drive to have an access to your google drive. So that you can save your output and input permanently.\n"
      ],
      "metadata": {
        "id": "WSSwUNUItOfG"
      }
    },
    {
      "cell_type": "code",
      "execution_count": null,
      "metadata": {
        "id": "lz-ZFeKJtKSQ"
      },
      "outputs": [],
      "source": [
        "from google.colab import drive\n",
        "drive.mount('/content/drive')"
      ]
    },
    {
      "cell_type": "markdown",
      "source": [
        "1. Convert normal images into grayscale blur images"
      ],
      "metadata": {
        "id": "BBIrI_4TuWNr"
      }
    },
    {
      "cell_type": "code",
      "source": [
        "# run it main code 1 to convert color images to blur images\n",
        "import os\n",
        "import cv2\n",
        "import matplotlib.pyplot as plt\n",
        "import numpy as np\n",
        "\n",
        "# Specify the directory path\n",
        "input_directory = 'image path to convert the images'   # specify the location of the input images\n",
        "output_directory = 'to save the converted images'   # specify the location to save the generated images\n",
        "\n",
        "# Create the output directory if it doesn't exist\n",
        "os.makedirs(output_directory, exist_ok=True)\n",
        "\n",
        "# Loop through all the files in the directory\n",
        "for filename in os.listdir(input_directory):\n",
        "    if filename.endswith('.avif') or filename.endswith('.webp') or filename.endswith('.jpg') or filename.endswith('.png') or filename.endswith('.jpeg'):\n",
        "        try:\n",
        "            file_path = os.path.join(input_directory, filename)\n",
        "            output_file_path = os.path.join(output_directory, f\"blurred_{filename}\")\n",
        "            image = cv2.imread(file_path, cv2.IMREAD_GRAYSCALE)\n",
        "\n",
        "            # Apply histogram equalization\n",
        "            equalized_image = cv2.equalizeHist(image)\n",
        "\n",
        "            # Create a low contrast image by reducing the contrast\n",
        "            alpha = 0.5\n",
        "            low_contrast_image = cv2.addWeighted(image, alpha, equalized_image, 1 - alpha, 0.0)\n",
        "\n",
        "            # Invert the grayscale image\n",
        "            invert = cv2.bitwise_not(low_contrast_image)\n",
        "\n",
        "            # Apply Gaussian blur to smooth the edges\n",
        "            blur = cv2.GaussianBlur(invert, (21, 21), 0)\n",
        "\n",
        "            # Invert the blurred image\n",
        "            invertedblur = cv2.bitwise_not(blur)\n",
        "\n",
        "            # Divide the grayscale image by the inverted blurred image\n",
        "            sketch = cv2.divide(low_contrast_image, invertedblur, scale=270.0)\n",
        "\n",
        "            blurred_array = np.array(sketch)\n",
        "            cv2.imwrite(output_file_path, cv2.cvtColor(blurred_array, cv2.COLOR_RGB2BGR))\n",
        "\n",
        "            plt.imshow(sketch, cmap='gray')\n",
        "            plt.axis('off')\n",
        "            plt.show()\n",
        "\n",
        "        except Exception as e:\n",
        "            print(f\"An error occurred while processing {filename}: {e}\")\n",
        "            continue\n",
        "\n",
        "print(\"Image processing completed.\")\n"
      ],
      "metadata": {
        "id": "u-_gPH0stwQn"
      },
      "execution_count": null,
      "outputs": []
    },
    {
      "cell_type": "markdown",
      "source": [
        "2. Try this to add more generate the more darkened blured images"
      ],
      "metadata": {
        "id": "Re4eFm7Eu1Zr"
      }
    },
    {
      "cell_type": "code",
      "source": [
        "# extra lined images with more blurr features\n",
        "import os\n",
        "import matplotlib.pyplot as plt\n",
        "import numpy as np\n",
        "from scipy.ndimage import gaussian_filter\n",
        "import cv2\n",
        "\n",
        "def process_and_save_image(image_path):\n",
        "    try:\n",
        "        # Load the image\n",
        "        image = plt.imread(image_path)\n",
        "\n",
        "        # Convert the image to grayscale if it is color\n",
        "        if image.ndim == 3:\n",
        "            gray_image = np.dot(image[..., :80], [0.5, 0.5, 0.8])\n",
        "        else:\n",
        "            gray_image = image\n",
        "\n",
        "        # Calculate the average grayscale level of the image\n",
        "        average_level = np.mean(gray_image)\n",
        "\n",
        "        # Define the darkness factor (0.0 - 1.0)\n",
        "        darkness_factor = 0.9\n",
        "\n",
        "        # Adjust the pixel values to make the image darker\n",
        "        darkened_image = gray_image - (average_level * darkness_factor)\n",
        "\n",
        "        # Clip the pixel values to ensure they stay within the valid range [0, 1]\n",
        "        darkened_image = np.clip(darkened_image, 0, 1)\n",
        "\n",
        "        # Apply Gaussian blur to the darkened image\n",
        "        blurred_image = gaussian_filter(darkened_image, sigma=2)\n",
        "\n",
        "        # Save the blurred image\n",
        "        base_filename = os.path.basename(image_path)\n",
        "        output_folder = 'path to store the images'\n",
        "        output_path = os.path.join(output_folder, \"blurred_\" + base_filename)\n",
        "        cv2.imwrite(output_path, (blurred_image * 255).astype(np.uint8))\n",
        "\n",
        "        # Display the processed image\n",
        "        plt.imshow(blurred_image, cmap='gray')\n",
        "        # plt.title('Processed Image')\n",
        "        plt.axis('off')\n",
        "        plt.show()\n",
        "\n",
        "        print(\"Image processed and saved:\", output_path)\n",
        "    except Exception as e:\n",
        "        print(f\"An error occurred while processing {image_path}: {e}\")\n",
        "\n",
        "if __name__ == \"__main__\":\n",
        "    input_folder = \"path to give the input images\"\n",
        "\n",
        "    # List all image files in the input folder\n",
        "    image_files = [os.path.join(input_folder, f) for f in os.listdir(input_folder) if f.lower().endswith(('.jpg', '.png', '.jpeg','.webp','.avif'))]\n",
        "\n",
        "    for image_file in image_files:\n",
        "        process_and_save_image(image_file)\n",
        "\n",
        "    print(\"Processing and saving completed.\")"
      ],
      "metadata": {
        "id": "rvSHDOv1uiDI"
      },
      "execution_count": null,
      "outputs": []
    },
    {
      "cell_type": "markdown",
      "source": [
        "Got any query feel free to ask...\n",
        "\n",
        "                                                                      @Abhilash Gaurav"
      ],
      "metadata": {
        "id": "N6_Qcy3hvMuK"
      }
    }
  ]
}